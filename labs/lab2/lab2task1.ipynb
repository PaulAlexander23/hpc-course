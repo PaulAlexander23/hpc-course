{
 "cells": [
  {
   "cell_type": "markdown",
   "metadata": {},
   "source": [
    "## M3C 2018 Lab 2 task 1"
   ]
  },
  {
   "cell_type": "markdown",
   "metadata": {},
   "source": [
    "1) Use the *rand* function to generate a 3 x 3 matrix, N "
   ]
  },
  {
   "cell_type": "code",
   "execution_count": 3,
   "metadata": {},
   "outputs": [],
   "source": [
    "import numpy as np\n",
    "\n",
    "N = np.random.rand(3,3)"
   ]
  },
  {
   "cell_type": "markdown",
   "metadata": {},
   "source": [
    "2) Compute the eigenvalues and eigenvectors of N:"
   ]
  },
  {
   "cell_type": "code",
   "execution_count": 12,
   "metadata": {},
   "outputs": [
    {
     "name": "stdout",
     "output_type": "stream",
     "text": [
      "[ 1.64935018 -0.3133491   0.23392597]\n",
      "[[-0.6900604  -0.60193217 -0.37577595]\n",
      " [-0.42306266  0.79767026 -0.5494277 ]\n",
      " [-0.58722621 -0.03741411  0.74627183]]\n"
     ]
    }
   ],
   "source": [
    "[e, x] = np.linalg.eig(N)\n",
    "print(e)\n",
    "print(x)"
   ]
  },
  {
   "cell_type": "markdown",
   "metadata": {},
   "source": [
    "3) Verify that $\\textrm{det}(N-\\lambda_1 I)=0$ where $\\lambda_1$ is the first eigenvalue of N:"
   ]
  },
  {
   "cell_type": "code",
   "execution_count": 24,
   "metadata": {},
   "outputs": [
    {
     "name": "stdout",
     "output_type": "stream",
     "text": [
      "5.92988697205e-16\n"
     ]
    }
   ],
   "source": [
    "print(np.linalg.det(N - np.linalg.multi_dot([e[0],np.eye(3,3)])))"
   ]
  },
  {
   "cell_type": "markdown",
   "metadata": {},
   "source": [
    "4) Verify that $N v_1 = \\lambda_1 v_1$ where $v_1$ is the first eigenvector of N:"
   ]
  },
  {
   "cell_type": "code",
   "execution_count": 25,
   "metadata": {},
   "outputs": [
    {
     "name": "stdout",
     "output_type": "stream",
     "text": [
      "2.48253415325e-16\n"
     ]
    }
   ],
   "source": [
    "print(np.linalg.norm(np.linalg.multi_dot([N,x[:,0]])-e[0]*x[:,0]))"
   ]
  },
  {
   "cell_type": "code",
   "execution_count": null,
   "metadata": {},
   "outputs": [],
   "source": []
  },
  {
   "cell_type": "code",
   "execution_count": null,
   "metadata": {},
   "outputs": [],
   "source": []
  },
  {
   "cell_type": "code",
   "execution_count": null,
   "metadata": {},
   "outputs": [],
   "source": []
  }
 ],
 "metadata": {
  "kernelspec": {
   "display_name": "Python 3",
   "language": "python",
   "name": "python3"
  },
  "language_info": {
   "codemirror_mode": {
    "name": "ipython",
    "version": 3
   },
   "file_extension": ".py",
   "mimetype": "text/x-python",
   "name": "python",
   "nbconvert_exporter": "python",
   "pygments_lexer": "ipython3",
   "version": "3.6.6"
  }
 },
 "nbformat": 4,
 "nbformat_minor": 1
}
